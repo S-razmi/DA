{
 "cells": [
  {
   "cell_type": "markdown",
   "metadata": {},
   "source": [
    "# **Northwind Database:**\n",
    "\n",
    "The Northwind database is a sample database that was originally created by Microsoft and used as the basis for their tutorials in a variety of database products for decades. The Northwind database contains the sales data for a fictitious company called “Northwind Traders,” which imports and exports specialty foods from around the world. The Northwind database is an excellent tutorial schema for a small-business ERP, with customers, orders, inventory, purchasing, suppliers, shipping, employees, and single-entry accounting. The Northwind database has since been ported to a variety of non-Microsoft databases, including PostgreSQL.\n",
    "<br>\n",
    "The Northwind dataset includes sample data for the following.\n",
    "\n",
    "- Suppliers: Suppliers and vendors of Northwind\n",
    "- Customers: Customers who buy products from Northwind\n",
    "- Employees: Employee details of Northwind traders\n",
    "- Products: Product information\n",
    "- Shippers: The details of the shippers who ship the products from the traders to the end-customers\n",
    "- Orders and Order_Details: Sales Order transactions taking place between the customers & the company\n",
    "\n",
    "<br>\n",
    "\n",
    "The Northwind sample database includes 14 tables and the table relationships are showcased in the following entity relationship diagram.\n",
    "\n",
    "## **Northwind ER Diagram:**\n",
    "\n",
    "<br>\n",
    " <img src=\"imgs/Northwind_ERD.png\" width=\"900\" height=\"1300\">\n",
    "<br>"
   ]
  },
  {
   "cell_type": "markdown",
   "metadata": {},
   "source": [
    "# **Use SQL commands in Jupyter Notebook:**\n",
    "\n",
    "- In order to install the extension you should type the following command in Terminal or cmd:\n",
    "\n",
    "```shell\n",
    "    python3 -m pip install ipython-sql\n",
    "```\n",
    "\n",
    "## **Using SQLAlchemy:**\n",
    "- It's an ORM (object-oriented-mapper)\n",
    "\n",
    "- After that there is a package named \"sqlalchemy\" that allows you to work with SQL in python.\n",
    "\n",
    "- SQLAlchemy: SQLAlchemy is the Python SQL toolkit and Object Relational Mapper that gives application developers the full power and flexibility of SQL.\n",
    "<br>\n",
    "- And now in order to install that you should type the following command in shell:\n",
    "\n",
    "```shell\n",
    "    pip3 install SQLAlchemy\n",
    "```\n",
    "\n",
    "- And also you can install it using conda:\n",
    "```shell\n",
    "    conda create -n sql python\n",
    "    conda activate sql\n",
    "    conda install ipython-sql sqlalchemy psycopg2 notebook pandas -c conda-forge\n",
    "```"
   ]
  },
  {
   "cell_type": "markdown",
   "metadata": {},
   "source": [
    "## **<font color='Green'>Sample HandsOn Questions:</font>**\n",
    "\n",
    "**In couple lines below we will show some sample SQL queries in order to answer the given questions.**\n",
    "\n",
    "<br>\n",
    "\n",
    "<font color='blue'>**First of all we have to connect to the Database we have:**</font>"
   ]
  },
  {
   "cell_type": "code",
   "execution_count": null,
   "metadata": {},
   "outputs": [],
   "source": []
  },
  {
   "cell_type": "markdown",
   "metadata": {},
   "source": [
    "### **<font color='darkblue'>Sample Question1:</font>**\n",
    "Q1: Write a query to get Product name and quantity/unit. (Limit the results)"
   ]
  },
  {
   "cell_type": "code",
   "execution_count": null,
   "metadata": {},
   "outputs": [],
   "source": []
  },
  {
   "cell_type": "markdown",
   "metadata": {},
   "source": [
    "### **<font color='darkblue'>Sample Question2:</font>**\n",
    "Q2: Write a query to get current Product list (Product ID and name). (Limit the results)"
   ]
  },
  {
   "cell_type": "code",
   "execution_count": null,
   "metadata": {},
   "outputs": [],
   "source": []
  },
  {
   "cell_type": "markdown",
   "metadata": {},
   "source": [
    "### **<font color='darkblue'>Sample Question3:</font>**\n",
    "Q3: Write a query to get discontinued Product list (Product ID and name). (Limit the results)"
   ]
  },
  {
   "cell_type": "code",
   "execution_count": null,
   "metadata": {},
   "outputs": [],
   "source": []
  },
  {
   "cell_type": "markdown",
   "metadata": {},
   "source": [
    "### **<font color='darkblue'>Sample Question4:</font>**\n",
    "Q4: Write a query to get most expense and least expensive Product list (name and unit price)"
   ]
  },
  {
   "cell_type": "code",
   "execution_count": null,
   "metadata": {},
   "outputs": [],
   "source": []
  },
  {
   "cell_type": "markdown",
   "metadata": {},
   "source": [
    "### **<font color='darkblue'>Sample Question5:</font>**\n",
    "Q5: Write a query to get Product list (id, name, unit price) where current products cost less than $20."
   ]
  },
  {
   "cell_type": "code",
   "execution_count": null,
   "metadata": {},
   "outputs": [],
   "source": []
  },
  {
   "cell_type": "markdown",
   "metadata": {},
   "source": [
    "### **<font color='darkblue'>Sample Question6:</font>**\n",
    "Q6: Write a query to get Product list (id, name, unit price) where products cost between $15 and $25."
   ]
  },
  {
   "cell_type": "code",
   "execution_count": null,
   "metadata": {},
   "outputs": [],
   "source": []
  },
  {
   "cell_type": "markdown",
   "metadata": {},
   "source": [
    "### **<font color='darkblue'>Sample Question7:</font>**\n",
    "Q7: Write a query to get Product list (name, unit price) of above average price."
   ]
  },
  {
   "cell_type": "code",
   "execution_count": null,
   "metadata": {},
   "outputs": [],
   "source": []
  },
  {
   "cell_type": "markdown",
   "metadata": {},
   "source": [
    "### **<font color='darkblue'>Sample Question8:</font>**\n",
    "Q8: Write a query to find how much the best selling products have sold (name, unit price)."
   ]
  },
  {
   "cell_type": "code",
   "execution_count": null,
   "metadata": {},
   "outputs": [],
   "source": []
  },
  {
   "cell_type": "markdown",
   "metadata": {},
   "source": [
    "### **<font color='darkblue'>Sample Question9:</font>**\n",
    "Q9: Write a query to count current and discontinued products."
   ]
  },
  {
   "cell_type": "code",
   "execution_count": null,
   "metadata": {},
   "outputs": [],
   "source": []
  },
  {
   "cell_type": "markdown",
   "metadata": {},
   "source": [
    "### **<font color='darkblue'>Sample Question10:</font>**\n",
    "Q10: Write a query to get Product list (name, units on order , units in stock) of stock is less than the quantity on order."
   ]
  },
  {
   "cell_type": "code",
   "execution_count": null,
   "metadata": {},
   "outputs": [],
   "source": []
  },
  {
   "cell_type": "markdown",
   "metadata": {},
   "source": [
    "### **<font color='darkblue'>Sample Question11:</font>**\n",
    "Q11: Write a query to get Product list (name, unit price) of twenty most expensive products."
   ]
  },
  {
   "cell_type": "code",
   "execution_count": null,
   "metadata": {},
   "outputs": [],
   "source": []
  },
  {
   "cell_type": "markdown",
   "metadata": {},
   "source": [
    "### **<font color='darkblue'>SQL Alchemy:</font>**"
   ]
  },
  {
   "cell_type": "code",
   "execution_count": null,
   "metadata": {},
   "outputs": [],
   "source": []
  }
 ],
 "metadata": {
  "interpreter": {
   "hash": "aee8b7b246df8f9039afb4144a1f6fd8d2ca17a180786b69acc140d282b71a49"
  },
  "kernelspec": {
   "display_name": "Python 3.9.7 64-bit",
   "name": "python3"
  },
  "language_info": {
   "codemirror_mode": {
    "name": "ipython",
    "version": 3
   },
   "file_extension": ".py",
   "mimetype": "text/x-python",
   "name": "python",
   "nbconvert_exporter": "python",
   "pygments_lexer": "ipython3",
   "version": "3.9.5"
  },
  "orig_nbformat": 4
 },
 "nbformat": 4,
 "nbformat_minor": 2
}
